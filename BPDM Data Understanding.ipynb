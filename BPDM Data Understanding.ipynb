{
 "cells": [
  {
   "cell_type": "code",
   "execution_count": 60,
   "metadata": {
    "collapsed": true
   },
   "outputs": [],
   "source": [
    "import pandas as pd\n",
    "%matplotlib notebook\n",
    "import matplotlib.pyplot as plt\n",
    "from sklearn.cross_validation import train_test_split, StratifiedKFold\n",
    "from sklearn.grid_search import GridSearchCV"
   ]
  },
  {
   "cell_type": "code",
   "execution_count": 2,
   "metadata": {
    "collapsed": true
   },
   "outputs": [],
   "source": [
    "#files\n",
    "train_filename = 'datahack2016/data/train_2011_12_DATA.csv'\n",
    "test_filename = 'datahack2016/data/test_2013_14_DATA.csv'\n"
   ]
  },
  {
   "cell_type": "code",
   "execution_count": 3,
   "metadata": {
    "collapsed": true
   },
   "outputs": [],
   "source": [
    "train = pd.read_csv(train_filename)\n",
    "test = pd.read_csv(test_filename)"
   ]
  },
  {
   "cell_type": "code",
   "execution_count": 37,
   "metadata": {
    "collapsed": false
   },
   "outputs": [],
   "source": [
    "X_train = train.values[:, 1:45].astype(np.float64)\n",
    "y_train = train.values[:, 46].astype(int)"
   ]
  },
  {
   "cell_type": "code",
   "execution_count": 38,
   "metadata": {
    "collapsed": true
   },
   "outputs": [],
   "source": [
    "X_test = test.values[:, 1:45].astype(np.float64)\n",
    "y_test = test.values[:, 46].astype(int)"
   ]
  },
  {
   "cell_type": "code",
   "execution_count": 14,
   "metadata": {
    "collapsed": true
   },
   "outputs": [],
   "source": [
    "from sklearn.decomposition import PCA"
   ]
  },
  {
   "cell_type": "code",
   "execution_count": 16,
   "metadata": {
    "collapsed": false
   },
   "outputs": [],
   "source": [
    "pca = PCA()"
   ]
  },
  {
   "cell_type": "code",
   "execution_count": 29,
   "metadata": {
    "collapsed": false
   },
   "outputs": [
    {
     "data": {
      "text/plain": [
       "PCA(copy=True, n_components=None, whiten=False)"
      ]
     },
     "execution_count": 29,
     "metadata": {},
     "output_type": "execute_result"
    }
   ],
   "source": [
    "pca.fit(X_train)"
   ]
  },
  {
   "cell_type": "code",
   "execution_count": null,
   "metadata": {
    "collapsed": true
   },
   "outputs": [],
   "source": [
    "train_pca = pca.transform(train)"
   ]
  },
  {
   "cell_type": "markdown",
   "metadata": {},
   "source": [
    "# SVM Raw"
   ]
  },
  {
   "cell_type": "code",
   "execution_count": 47,
   "metadata": {
    "collapsed": false
   },
   "outputs": [
    {
     "data": {
      "text/plain": [
       "SVC(C=1.0, cache_size=200, class_weight=None, coef0=0.0,\n",
       "  decision_function_shape=None, degree=3, gamma='auto', kernel='rbf',\n",
       "  max_iter=-1, probability=True, random_state=None, shrinking=True,\n",
       "  tol=0.001, verbose=False)"
      ]
     },
     "execution_count": 47,
     "metadata": {},
     "output_type": "execute_result"
    }
   ],
   "source": [
    "from sklearn.svm import SVC\n",
    "clf = SVC(probability=True)\n",
    "clf.fit(X_train, y_train) "
   ]
  },
  {
   "cell_type": "code",
   "execution_count": 48,
   "metadata": {
    "collapsed": false
   },
   "outputs": [
    {
     "data": {
      "text/plain": [
       "0.84553325462416373"
      ]
     },
     "execution_count": 48,
     "metadata": {},
     "output_type": "execute_result"
    }
   ],
   "source": [
    "clf.score(X_test, y_test)"
   ]
  },
  {
   "cell_type": "markdown",
   "metadata": {},
   "source": [
    "# SVM+PCA"
   ]
  },
  {
   "cell_type": "code",
   "execution_count": 43,
   "metadata": {
    "collapsed": false
   },
   "outputs": [
    {
     "data": {
      "text/plain": [
       "SVC(C=1.0, cache_size=200, class_weight=None, coef0=0.0,\n",
       "  decision_function_shape=None, degree=3, gamma='auto', kernel='rbf',\n",
       "  max_iter=-1, probability=False, random_state=None, shrinking=True,\n",
       "  tol=0.001, verbose=False)"
      ]
     },
     "execution_count": 43,
     "metadata": {},
     "output_type": "execute_result"
    }
   ],
   "source": [
    "pca = PCA(n_components=5)\n",
    "pca.fit(X_train)\n",
    "X_train_pca = pca.transform(X_train)\n",
    "X_test_pca = pca.transform(X_test)\n",
    "clf_pca = SVC()\n",
    "clf_pca.fit(X_train_pca, y_train) "
   ]
  },
  {
   "cell_type": "code",
   "execution_count": 44,
   "metadata": {
    "collapsed": false
   },
   "outputs": [
    {
     "data": {
      "text/plain": [
       "0.84553325462416373"
      ]
     },
     "execution_count": 44,
     "metadata": {},
     "output_type": "execute_result"
    }
   ],
   "source": [
    "clf_pca.score(X_test_pca, y_test)"
   ]
  },
  {
   "cell_type": "markdown",
   "metadata": {},
   "source": [
    "# AUC with Grid Search"
   ]
  },
  {
   "cell_type": "code",
   "execution_count": 62,
   "metadata": {
    "collapsed": false
   },
   "outputs": [],
   "source": [
    "cross_val_k = 2\n",
    "penalties = 2.0**np.linspace(-5, 15, 5)\n",
    "gammas = 2.0**np.linspace(-15, 3, 5)\n",
    "parameters = {'C': penalties, 'gamma': gammas}\n",
    "svr = SVC(kernel='rbf', class_weight='balanced', cache_size=2000, random_state=42, probability=True)\n",
    "gs = GridSearchCV(svr, parameters, cv=StratifiedKFold(y_train, cross_val_k, random_state=42), n_jobs=20).fit(X_train, y_train)\n"
   ]
  },
  {
   "cell_type": "code",
   "execution_count": 69,
   "metadata": {
    "collapsed": false
   },
   "outputs": [
    {
     "data": {
      "text/plain": [
       "SVC(C=32.0, cache_size=2000, class_weight='balanced', coef0=0.0,\n",
       "  decision_function_shape=None, degree=3, gamma=0.015625, kernel='rbf',\n",
       "  max_iter=-1, probability=True, random_state=42, shrinking=True,\n",
       "  tol=0.001, verbose=False)"
      ]
     },
     "execution_count": 69,
     "metadata": {},
     "output_type": "execute_result"
    }
   ],
   "source": [
    "classifier = gs.best_estimator_\n",
    "classifier.fit(X_train, y_train)\n"
   ]
  },
  {
   "cell_type": "code",
   "execution_count": 70,
   "metadata": {
    "collapsed": false
   },
   "outputs": [
    {
     "data": {
      "text/plain": [
       "0.84553325462416373"
      ]
     },
     "execution_count": 70,
     "metadata": {},
     "output_type": "execute_result"
    }
   ],
   "source": [
    "classifier.score(X_test, y_test)"
   ]
  },
  {
   "cell_type": "code",
   "execution_count": 67,
   "metadata": {
    "collapsed": false
   },
   "outputs": [
    {
     "data": {
      "application/javascript": [
       "/* Put everything inside the global mpl namespace */\n",
       "window.mpl = {};\n",
       "\n",
       "mpl.get_websocket_type = function() {\n",
       "    if (typeof(WebSocket) !== 'undefined') {\n",
       "        return WebSocket;\n",
       "    } else if (typeof(MozWebSocket) !== 'undefined') {\n",
       "        return MozWebSocket;\n",
       "    } else {\n",
       "        alert('Your browser does not have WebSocket support.' +\n",
       "              'Please try Chrome, Safari or Firefox ≥ 6. ' +\n",
       "              'Firefox 4 and 5 are also supported but you ' +\n",
       "              'have to enable WebSockets in about:config.');\n",
       "    };\n",
       "}\n",
       "\n",
       "mpl.figure = function(figure_id, websocket, ondownload, parent_element) {\n",
       "    this.id = figure_id;\n",
       "\n",
       "    this.ws = websocket;\n",
       "\n",
       "    this.supports_binary = (this.ws.binaryType != undefined);\n",
       "\n",
       "    if (!this.supports_binary) {\n",
       "        var warnings = document.getElementById(\"mpl-warnings\");\n",
       "        if (warnings) {\n",
       "            warnings.style.display = 'block';\n",
       "            warnings.textContent = (\n",
       "                \"This browser does not support binary websocket messages. \" +\n",
       "                    \"Performance may be slow.\");\n",
       "        }\n",
       "    }\n",
       "\n",
       "    this.imageObj = new Image();\n",
       "\n",
       "    this.context = undefined;\n",
       "    this.message = undefined;\n",
       "    this.canvas = undefined;\n",
       "    this.rubberband_canvas = undefined;\n",
       "    this.rubberband_context = undefined;\n",
       "    this.format_dropdown = undefined;\n",
       "\n",
       "    this.image_mode = 'full';\n",
       "\n",
       "    this.root = $('<div/>');\n",
       "    this._root_extra_style(this.root)\n",
       "    this.root.attr('style', 'display: inline-block');\n",
       "\n",
       "    $(parent_element).append(this.root);\n",
       "\n",
       "    this._init_header(this);\n",
       "    this._init_canvas(this);\n",
       "    this._init_toolbar(this);\n",
       "\n",
       "    var fig = this;\n",
       "\n",
       "    this.waiting = false;\n",
       "\n",
       "    this.ws.onopen =  function () {\n",
       "            fig.send_message(\"supports_binary\", {value: fig.supports_binary});\n",
       "            fig.send_message(\"send_image_mode\", {});\n",
       "            fig.send_message(\"refresh\", {});\n",
       "        }\n",
       "\n",
       "    this.imageObj.onload = function() {\n",
       "            if (fig.image_mode == 'full') {\n",
       "                // Full images could contain transparency (where diff images\n",
       "                // almost always do), so we need to clear the canvas so that\n",
       "                // there is no ghosting.\n",
       "                fig.context.clearRect(0, 0, fig.canvas.width, fig.canvas.height);\n",
       "            }\n",
       "            fig.context.drawImage(fig.imageObj, 0, 0);\n",
       "        };\n",
       "\n",
       "    this.imageObj.onunload = function() {\n",
       "        this.ws.close();\n",
       "    }\n",
       "\n",
       "    this.ws.onmessage = this._make_on_message_function(this);\n",
       "\n",
       "    this.ondownload = ondownload;\n",
       "}\n",
       "\n",
       "mpl.figure.prototype._init_header = function() {\n",
       "    var titlebar = $(\n",
       "        '<div class=\"ui-dialog-titlebar ui-widget-header ui-corner-all ' +\n",
       "        'ui-helper-clearfix\"/>');\n",
       "    var titletext = $(\n",
       "        '<div class=\"ui-dialog-title\" style=\"width: 100%; ' +\n",
       "        'text-align: center; padding: 3px;\"/>');\n",
       "    titlebar.append(titletext)\n",
       "    this.root.append(titlebar);\n",
       "    this.header = titletext[0];\n",
       "}\n",
       "\n",
       "\n",
       "\n",
       "mpl.figure.prototype._canvas_extra_style = function(canvas_div) {\n",
       "\n",
       "}\n",
       "\n",
       "\n",
       "mpl.figure.prototype._root_extra_style = function(canvas_div) {\n",
       "\n",
       "}\n",
       "\n",
       "mpl.figure.prototype._init_canvas = function() {\n",
       "    var fig = this;\n",
       "\n",
       "    var canvas_div = $('<div/>');\n",
       "\n",
       "    canvas_div.attr('style', 'position: relative; clear: both; outline: 0');\n",
       "\n",
       "    function canvas_keyboard_event(event) {\n",
       "        return fig.key_event(event, event['data']);\n",
       "    }\n",
       "\n",
       "    canvas_div.keydown('key_press', canvas_keyboard_event);\n",
       "    canvas_div.keyup('key_release', canvas_keyboard_event);\n",
       "    this.canvas_div = canvas_div\n",
       "    this._canvas_extra_style(canvas_div)\n",
       "    this.root.append(canvas_div);\n",
       "\n",
       "    var canvas = $('<canvas/>');\n",
       "    canvas.addClass('mpl-canvas');\n",
       "    canvas.attr('style', \"left: 0; top: 0; z-index: 0; outline: 0\")\n",
       "\n",
       "    this.canvas = canvas[0];\n",
       "    this.context = canvas[0].getContext(\"2d\");\n",
       "\n",
       "    var rubberband = $('<canvas/>');\n",
       "    rubberband.attr('style', \"position: absolute; left: 0; top: 0; z-index: 1;\")\n",
       "\n",
       "    var pass_mouse_events = true;\n",
       "\n",
       "    canvas_div.resizable({\n",
       "        start: function(event, ui) {\n",
       "            pass_mouse_events = false;\n",
       "        },\n",
       "        resize: function(event, ui) {\n",
       "            fig.request_resize(ui.size.width, ui.size.height);\n",
       "        },\n",
       "        stop: function(event, ui) {\n",
       "            pass_mouse_events = true;\n",
       "            fig.request_resize(ui.size.width, ui.size.height);\n",
       "        },\n",
       "    });\n",
       "\n",
       "    function mouse_event_fn(event) {\n",
       "        if (pass_mouse_events)\n",
       "            return fig.mouse_event(event, event['data']);\n",
       "    }\n",
       "\n",
       "    rubberband.mousedown('button_press', mouse_event_fn);\n",
       "    rubberband.mouseup('button_release', mouse_event_fn);\n",
       "    // Throttle sequential mouse events to 1 every 20ms.\n",
       "    rubberband.mousemove('motion_notify', mouse_event_fn);\n",
       "\n",
       "    rubberband.mouseenter('figure_enter', mouse_event_fn);\n",
       "    rubberband.mouseleave('figure_leave', mouse_event_fn);\n",
       "\n",
       "    canvas_div.on(\"wheel\", function (event) {\n",
       "        event = event.originalEvent;\n",
       "        event['data'] = 'scroll'\n",
       "        if (event.deltaY < 0) {\n",
       "            event.step = 1;\n",
       "        } else {\n",
       "            event.step = -1;\n",
       "        }\n",
       "        mouse_event_fn(event);\n",
       "    });\n",
       "\n",
       "    canvas_div.append(canvas);\n",
       "    canvas_div.append(rubberband);\n",
       "\n",
       "    this.rubberband = rubberband;\n",
       "    this.rubberband_canvas = rubberband[0];\n",
       "    this.rubberband_context = rubberband[0].getContext(\"2d\");\n",
       "    this.rubberband_context.strokeStyle = \"#000000\";\n",
       "\n",
       "    this._resize_canvas = function(width, height) {\n",
       "        // Keep the size of the canvas, canvas container, and rubber band\n",
       "        // canvas in synch.\n",
       "        canvas_div.css('width', width)\n",
       "        canvas_div.css('height', height)\n",
       "\n",
       "        canvas.attr('width', width);\n",
       "        canvas.attr('height', height);\n",
       "\n",
       "        rubberband.attr('width', width);\n",
       "        rubberband.attr('height', height);\n",
       "    }\n",
       "\n",
       "    // Set the figure to an initial 600x600px, this will subsequently be updated\n",
       "    // upon first draw.\n",
       "    this._resize_canvas(600, 600);\n",
       "\n",
       "    // Disable right mouse context menu.\n",
       "    $(this.rubberband_canvas).bind(\"contextmenu\",function(e){\n",
       "        return false;\n",
       "    });\n",
       "\n",
       "    function set_focus () {\n",
       "        canvas.focus();\n",
       "        canvas_div.focus();\n",
       "    }\n",
       "\n",
       "    window.setTimeout(set_focus, 100);\n",
       "}\n",
       "\n",
       "mpl.figure.prototype._init_toolbar = function() {\n",
       "    var fig = this;\n",
       "\n",
       "    var nav_element = $('<div/>')\n",
       "    nav_element.attr('style', 'width: 100%');\n",
       "    this.root.append(nav_element);\n",
       "\n",
       "    // Define a callback function for later on.\n",
       "    function toolbar_event(event) {\n",
       "        return fig.toolbar_button_onclick(event['data']);\n",
       "    }\n",
       "    function toolbar_mouse_event(event) {\n",
       "        return fig.toolbar_button_onmouseover(event['data']);\n",
       "    }\n",
       "\n",
       "    for(var toolbar_ind in mpl.toolbar_items) {\n",
       "        var name = mpl.toolbar_items[toolbar_ind][0];\n",
       "        var tooltip = mpl.toolbar_items[toolbar_ind][1];\n",
       "        var image = mpl.toolbar_items[toolbar_ind][2];\n",
       "        var method_name = mpl.toolbar_items[toolbar_ind][3];\n",
       "\n",
       "        if (!name) {\n",
       "            // put a spacer in here.\n",
       "            continue;\n",
       "        }\n",
       "        var button = $('<button/>');\n",
       "        button.addClass('ui-button ui-widget ui-state-default ui-corner-all ' +\n",
       "                        'ui-button-icon-only');\n",
       "        button.attr('role', 'button');\n",
       "        button.attr('aria-disabled', 'false');\n",
       "        button.click(method_name, toolbar_event);\n",
       "        button.mouseover(tooltip, toolbar_mouse_event);\n",
       "\n",
       "        var icon_img = $('<span/>');\n",
       "        icon_img.addClass('ui-button-icon-primary ui-icon');\n",
       "        icon_img.addClass(image);\n",
       "        icon_img.addClass('ui-corner-all');\n",
       "\n",
       "        var tooltip_span = $('<span/>');\n",
       "        tooltip_span.addClass('ui-button-text');\n",
       "        tooltip_span.html(tooltip);\n",
       "\n",
       "        button.append(icon_img);\n",
       "        button.append(tooltip_span);\n",
       "\n",
       "        nav_element.append(button);\n",
       "    }\n",
       "\n",
       "    var fmt_picker_span = $('<span/>');\n",
       "\n",
       "    var fmt_picker = $('<select/>');\n",
       "    fmt_picker.addClass('mpl-toolbar-option ui-widget ui-widget-content');\n",
       "    fmt_picker_span.append(fmt_picker);\n",
       "    nav_element.append(fmt_picker_span);\n",
       "    this.format_dropdown = fmt_picker[0];\n",
       "\n",
       "    for (var ind in mpl.extensions) {\n",
       "        var fmt = mpl.extensions[ind];\n",
       "        var option = $(\n",
       "            '<option/>', {selected: fmt === mpl.default_extension}).html(fmt);\n",
       "        fmt_picker.append(option)\n",
       "    }\n",
       "\n",
       "    // Add hover states to the ui-buttons\n",
       "    $( \".ui-button\" ).hover(\n",
       "        function() { $(this).addClass(\"ui-state-hover\");},\n",
       "        function() { $(this).removeClass(\"ui-state-hover\");}\n",
       "    );\n",
       "\n",
       "    var status_bar = $('<span class=\"mpl-message\"/>');\n",
       "    nav_element.append(status_bar);\n",
       "    this.message = status_bar[0];\n",
       "}\n",
       "\n",
       "mpl.figure.prototype.request_resize = function(x_pixels, y_pixels) {\n",
       "    // Request matplotlib to resize the figure. Matplotlib will then trigger a resize in the client,\n",
       "    // which will in turn request a refresh of the image.\n",
       "    this.send_message('resize', {'width': x_pixels, 'height': y_pixels});\n",
       "}\n",
       "\n",
       "mpl.figure.prototype.send_message = function(type, properties) {\n",
       "    properties['type'] = type;\n",
       "    properties['figure_id'] = this.id;\n",
       "    this.ws.send(JSON.stringify(properties));\n",
       "}\n",
       "\n",
       "mpl.figure.prototype.send_draw_message = function() {\n",
       "    if (!this.waiting) {\n",
       "        this.waiting = true;\n",
       "        this.ws.send(JSON.stringify({type: \"draw\", figure_id: this.id}));\n",
       "    }\n",
       "}\n",
       "\n",
       "\n",
       "mpl.figure.prototype.handle_save = function(fig, msg) {\n",
       "    var format_dropdown = fig.format_dropdown;\n",
       "    var format = format_dropdown.options[format_dropdown.selectedIndex].value;\n",
       "    fig.ondownload(fig, format);\n",
       "}\n",
       "\n",
       "\n",
       "mpl.figure.prototype.handle_resize = function(fig, msg) {\n",
       "    var size = msg['size'];\n",
       "    if (size[0] != fig.canvas.width || size[1] != fig.canvas.height) {\n",
       "        fig._resize_canvas(size[0], size[1]);\n",
       "        fig.send_message(\"refresh\", {});\n",
       "    };\n",
       "}\n",
       "\n",
       "mpl.figure.prototype.handle_rubberband = function(fig, msg) {\n",
       "    var x0 = msg['x0'];\n",
       "    var y0 = fig.canvas.height - msg['y0'];\n",
       "    var x1 = msg['x1'];\n",
       "    var y1 = fig.canvas.height - msg['y1'];\n",
       "    x0 = Math.floor(x0) + 0.5;\n",
       "    y0 = Math.floor(y0) + 0.5;\n",
       "    x1 = Math.floor(x1) + 0.5;\n",
       "    y1 = Math.floor(y1) + 0.5;\n",
       "    var min_x = Math.min(x0, x1);\n",
       "    var min_y = Math.min(y0, y1);\n",
       "    var width = Math.abs(x1 - x0);\n",
       "    var height = Math.abs(y1 - y0);\n",
       "\n",
       "    fig.rubberband_context.clearRect(\n",
       "        0, 0, fig.canvas.width, fig.canvas.height);\n",
       "\n",
       "    fig.rubberband_context.strokeRect(min_x, min_y, width, height);\n",
       "}\n",
       "\n",
       "mpl.figure.prototype.handle_figure_label = function(fig, msg) {\n",
       "    // Updates the figure title.\n",
       "    fig.header.textContent = msg['label'];\n",
       "}\n",
       "\n",
       "mpl.figure.prototype.handle_cursor = function(fig, msg) {\n",
       "    var cursor = msg['cursor'];\n",
       "    switch(cursor)\n",
       "    {\n",
       "    case 0:\n",
       "        cursor = 'pointer';\n",
       "        break;\n",
       "    case 1:\n",
       "        cursor = 'default';\n",
       "        break;\n",
       "    case 2:\n",
       "        cursor = 'crosshair';\n",
       "        break;\n",
       "    case 3:\n",
       "        cursor = 'move';\n",
       "        break;\n",
       "    }\n",
       "    fig.rubberband_canvas.style.cursor = cursor;\n",
       "}\n",
       "\n",
       "mpl.figure.prototype.handle_message = function(fig, msg) {\n",
       "    fig.message.textContent = msg['message'];\n",
       "}\n",
       "\n",
       "mpl.figure.prototype.handle_draw = function(fig, msg) {\n",
       "    // Request the server to send over a new figure.\n",
       "    fig.send_draw_message();\n",
       "}\n",
       "\n",
       "mpl.figure.prototype.handle_image_mode = function(fig, msg) {\n",
       "    fig.image_mode = msg['mode'];\n",
       "}\n",
       "\n",
       "mpl.figure.prototype.updated_canvas_event = function() {\n",
       "    // Called whenever the canvas gets updated.\n",
       "    this.send_message(\"ack\", {});\n",
       "}\n",
       "\n",
       "// A function to construct a web socket function for onmessage handling.\n",
       "// Called in the figure constructor.\n",
       "mpl.figure.prototype._make_on_message_function = function(fig) {\n",
       "    return function socket_on_message(evt) {\n",
       "        if (evt.data instanceof Blob) {\n",
       "            /* FIXME: We get \"Resource interpreted as Image but\n",
       "             * transferred with MIME type text/plain:\" errors on\n",
       "             * Chrome.  But how to set the MIME type?  It doesn't seem\n",
       "             * to be part of the websocket stream */\n",
       "            evt.data.type = \"image/png\";\n",
       "\n",
       "            /* Free the memory for the previous frames */\n",
       "            if (fig.imageObj.src) {\n",
       "                (window.URL || window.webkitURL).revokeObjectURL(\n",
       "                    fig.imageObj.src);\n",
       "            }\n",
       "\n",
       "            fig.imageObj.src = (window.URL || window.webkitURL).createObjectURL(\n",
       "                evt.data);\n",
       "            fig.updated_canvas_event();\n",
       "            fig.waiting = false;\n",
       "            return;\n",
       "        }\n",
       "        else if (typeof evt.data === 'string' && evt.data.slice(0, 21) == \"data:image/png;base64\") {\n",
       "            fig.imageObj.src = evt.data;\n",
       "            fig.updated_canvas_event();\n",
       "            fig.waiting = false;\n",
       "            return;\n",
       "        }\n",
       "\n",
       "        var msg = JSON.parse(evt.data);\n",
       "        var msg_type = msg['type'];\n",
       "\n",
       "        // Call the  \"handle_{type}\" callback, which takes\n",
       "        // the figure and JSON message as its only arguments.\n",
       "        try {\n",
       "            var callback = fig[\"handle_\" + msg_type];\n",
       "        } catch (e) {\n",
       "            console.log(\"No handler for the '\" + msg_type + \"' message type: \", msg);\n",
       "            return;\n",
       "        }\n",
       "\n",
       "        if (callback) {\n",
       "            try {\n",
       "                // console.log(\"Handling '\" + msg_type + \"' message: \", msg);\n",
       "                callback(fig, msg);\n",
       "            } catch (e) {\n",
       "                console.log(\"Exception inside the 'handler_\" + msg_type + \"' callback:\", e, e.stack, msg);\n",
       "            }\n",
       "        }\n",
       "    };\n",
       "}\n",
       "\n",
       "// from http://stackoverflow.com/questions/1114465/getting-mouse-location-in-canvas\n",
       "mpl.findpos = function(e) {\n",
       "    //this section is from http://www.quirksmode.org/js/events_properties.html\n",
       "    var targ;\n",
       "    if (!e)\n",
       "        e = window.event;\n",
       "    if (e.target)\n",
       "        targ = e.target;\n",
       "    else if (e.srcElement)\n",
       "        targ = e.srcElement;\n",
       "    if (targ.nodeType == 3) // defeat Safari bug\n",
       "        targ = targ.parentNode;\n",
       "\n",
       "    // jQuery normalizes the pageX and pageY\n",
       "    // pageX,Y are the mouse positions relative to the document\n",
       "    // offset() returns the position of the element relative to the document\n",
       "    var x = e.pageX - $(targ).offset().left;\n",
       "    var y = e.pageY - $(targ).offset().top;\n",
       "\n",
       "    return {\"x\": x, \"y\": y};\n",
       "};\n",
       "\n",
       "/*\n",
       " * return a copy of an object with only non-object keys\n",
       " * we need this to avoid circular references\n",
       " * http://stackoverflow.com/a/24161582/3208463\n",
       " */\n",
       "function simpleKeys (original) {\n",
       "  return Object.keys(original).reduce(function (obj, key) {\n",
       "    if (typeof original[key] !== 'object')\n",
       "        obj[key] = original[key]\n",
       "    return obj;\n",
       "  }, {});\n",
       "}\n",
       "\n",
       "mpl.figure.prototype.mouse_event = function(event, name) {\n",
       "    var canvas_pos = mpl.findpos(event)\n",
       "\n",
       "    if (name === 'button_press')\n",
       "    {\n",
       "        this.canvas.focus();\n",
       "        this.canvas_div.focus();\n",
       "    }\n",
       "\n",
       "    var x = canvas_pos.x;\n",
       "    var y = canvas_pos.y;\n",
       "\n",
       "    this.send_message(name, {x: x, y: y, button: event.button,\n",
       "                             step: event.step,\n",
       "                             guiEvent: simpleKeys(event)});\n",
       "\n",
       "    /* This prevents the web browser from automatically changing to\n",
       "     * the text insertion cursor when the button is pressed.  We want\n",
       "     * to control all of the cursor setting manually through the\n",
       "     * 'cursor' event from matplotlib */\n",
       "    event.preventDefault();\n",
       "    return false;\n",
       "}\n",
       "\n",
       "mpl.figure.prototype._key_event_extra = function(event, name) {\n",
       "    // Handle any extra behaviour associated with a key event\n",
       "}\n",
       "\n",
       "mpl.figure.prototype.key_event = function(event, name) {\n",
       "\n",
       "    // Prevent repeat events\n",
       "    if (name == 'key_press')\n",
       "    {\n",
       "        if (event.which === this._key)\n",
       "            return;\n",
       "        else\n",
       "            this._key = event.which;\n",
       "    }\n",
       "    if (name == 'key_release')\n",
       "        this._key = null;\n",
       "\n",
       "    var value = '';\n",
       "    if (event.ctrlKey && event.which != 17)\n",
       "        value += \"ctrl+\";\n",
       "    if (event.altKey && event.which != 18)\n",
       "        value += \"alt+\";\n",
       "    if (event.shiftKey && event.which != 16)\n",
       "        value += \"shift+\";\n",
       "\n",
       "    value += 'k';\n",
       "    value += event.which.toString();\n",
       "\n",
       "    this._key_event_extra(event, name);\n",
       "\n",
       "    this.send_message(name, {key: value,\n",
       "                             guiEvent: simpleKeys(event)});\n",
       "    return false;\n",
       "}\n",
       "\n",
       "mpl.figure.prototype.toolbar_button_onclick = function(name) {\n",
       "    if (name == 'download') {\n",
       "        this.handle_save(this, null);\n",
       "    } else {\n",
       "        this.send_message(\"toolbar_button\", {name: name});\n",
       "    }\n",
       "};\n",
       "\n",
       "mpl.figure.prototype.toolbar_button_onmouseover = function(tooltip) {\n",
       "    this.message.textContent = tooltip;\n",
       "};\n",
       "mpl.toolbar_items = [[\"Home\", \"Reset original view\", \"fa fa-home icon-home\", \"home\"], [\"Back\", \"Back to  previous view\", \"fa fa-arrow-left icon-arrow-left\", \"back\"], [\"Forward\", \"Forward to next view\", \"fa fa-arrow-right icon-arrow-right\", \"forward\"], [\"\", \"\", \"\", \"\"], [\"Pan\", \"Pan axes with left mouse, zoom with right\", \"fa fa-arrows icon-move\", \"pan\"], [\"Zoom\", \"Zoom to rectangle\", \"fa fa-square-o icon-check-empty\", \"zoom\"], [\"\", \"\", \"\", \"\"], [\"Download\", \"Download plot\", \"fa fa-floppy-o icon-save\", \"download\"]];\n",
       "\n",
       "mpl.extensions = [\"eps\", \"jpeg\", \"pdf\", \"png\", \"ps\", \"raw\", \"svg\", \"tif\"];\n",
       "\n",
       "mpl.default_extension = \"png\";var comm_websocket_adapter = function(comm) {\n",
       "    // Create a \"websocket\"-like object which calls the given IPython comm\n",
       "    // object with the appropriate methods. Currently this is a non binary\n",
       "    // socket, so there is still some room for performance tuning.\n",
       "    var ws = {};\n",
       "\n",
       "    ws.close = function() {\n",
       "        comm.close()\n",
       "    };\n",
       "    ws.send = function(m) {\n",
       "        //console.log('sending', m);\n",
       "        comm.send(m);\n",
       "    };\n",
       "    // Register the callback with on_msg.\n",
       "    comm.on_msg(function(msg) {\n",
       "        //console.log('receiving', msg['content']['data'], msg);\n",
       "        // Pass the mpl event to the overriden (by mpl) onmessage function.\n",
       "        ws.onmessage(msg['content']['data'])\n",
       "    });\n",
       "    return ws;\n",
       "}\n",
       "\n",
       "mpl.mpl_figure_comm = function(comm, msg) {\n",
       "    // This is the function which gets called when the mpl process\n",
       "    // starts-up an IPython Comm through the \"matplotlib\" channel.\n",
       "\n",
       "    var id = msg.content.data.id;\n",
       "    // Get hold of the div created by the display call when the Comm\n",
       "    // socket was opened in Python.\n",
       "    var element = $(\"#\" + id);\n",
       "    var ws_proxy = comm_websocket_adapter(comm)\n",
       "\n",
       "    function ondownload(figure, format) {\n",
       "        window.open(figure.imageObj.src);\n",
       "    }\n",
       "\n",
       "    var fig = new mpl.figure(id, ws_proxy,\n",
       "                           ondownload,\n",
       "                           element.get(0));\n",
       "\n",
       "    // Call onopen now - mpl needs it, as it is assuming we've passed it a real\n",
       "    // web socket which is closed, not our websocket->open comm proxy.\n",
       "    ws_proxy.onopen();\n",
       "\n",
       "    fig.parent_element = element.get(0);\n",
       "    fig.cell_info = mpl.find_output_cell(\"<div id='\" + id + \"'></div>\");\n",
       "    if (!fig.cell_info) {\n",
       "        console.error(\"Failed to find cell for figure\", id, fig);\n",
       "        return;\n",
       "    }\n",
       "\n",
       "    var output_index = fig.cell_info[2]\n",
       "    var cell = fig.cell_info[0];\n",
       "\n",
       "};\n",
       "\n",
       "mpl.figure.prototype.handle_close = function(fig, msg) {\n",
       "    fig.root.unbind('remove')\n",
       "\n",
       "    // Update the output cell to use the data from the current canvas.\n",
       "    fig.push_to_output();\n",
       "    var dataURL = fig.canvas.toDataURL();\n",
       "    // Re-enable the keyboard manager in IPython - without this line, in FF,\n",
       "    // the notebook keyboard shortcuts fail.\n",
       "    IPython.keyboard_manager.enable()\n",
       "    $(fig.parent_element).html('<img src=\"' + dataURL + '\">');\n",
       "    fig.close_ws(fig, msg);\n",
       "}\n",
       "\n",
       "mpl.figure.prototype.close_ws = function(fig, msg){\n",
       "    fig.send_message('closing', msg);\n",
       "    // fig.ws.close()\n",
       "}\n",
       "\n",
       "mpl.figure.prototype.push_to_output = function(remove_interactive) {\n",
       "    // Turn the data on the canvas into data in the output cell.\n",
       "    var dataURL = this.canvas.toDataURL();\n",
       "    this.cell_info[1]['text/html'] = '<img src=\"' + dataURL + '\">';\n",
       "}\n",
       "\n",
       "mpl.figure.prototype.updated_canvas_event = function() {\n",
       "    // Tell IPython that the notebook contents must change.\n",
       "    IPython.notebook.set_dirty(true);\n",
       "    this.send_message(\"ack\", {});\n",
       "    var fig = this;\n",
       "    // Wait a second, then push the new image to the DOM so\n",
       "    // that it is saved nicely (might be nice to debounce this).\n",
       "    setTimeout(function () { fig.push_to_output() }, 1000);\n",
       "}\n",
       "\n",
       "mpl.figure.prototype._init_toolbar = function() {\n",
       "    var fig = this;\n",
       "\n",
       "    var nav_element = $('<div/>')\n",
       "    nav_element.attr('style', 'width: 100%');\n",
       "    this.root.append(nav_element);\n",
       "\n",
       "    // Define a callback function for later on.\n",
       "    function toolbar_event(event) {\n",
       "        return fig.toolbar_button_onclick(event['data']);\n",
       "    }\n",
       "    function toolbar_mouse_event(event) {\n",
       "        return fig.toolbar_button_onmouseover(event['data']);\n",
       "    }\n",
       "\n",
       "    for(var toolbar_ind in mpl.toolbar_items){\n",
       "        var name = mpl.toolbar_items[toolbar_ind][0];\n",
       "        var tooltip = mpl.toolbar_items[toolbar_ind][1];\n",
       "        var image = mpl.toolbar_items[toolbar_ind][2];\n",
       "        var method_name = mpl.toolbar_items[toolbar_ind][3];\n",
       "\n",
       "        if (!name) { continue; };\n",
       "\n",
       "        var button = $('<button class=\"btn btn-default\" href=\"#\" title=\"' + name + '\"><i class=\"fa ' + image + ' fa-lg\"></i></button>');\n",
       "        button.click(method_name, toolbar_event);\n",
       "        button.mouseover(tooltip, toolbar_mouse_event);\n",
       "        nav_element.append(button);\n",
       "    }\n",
       "\n",
       "    // Add the status bar.\n",
       "    var status_bar = $('<span class=\"mpl-message\" style=\"text-align:right; float: right;\"/>');\n",
       "    nav_element.append(status_bar);\n",
       "    this.message = status_bar[0];\n",
       "\n",
       "    // Add the close button to the window.\n",
       "    var buttongrp = $('<div class=\"btn-group inline pull-right\"></div>');\n",
       "    var button = $('<button class=\"btn btn-mini btn-primary\" href=\"#\" title=\"Stop Interaction\"><i class=\"fa fa-power-off icon-remove icon-large\"></i></button>');\n",
       "    button.click(function (evt) { fig.handle_close(fig, {}); } );\n",
       "    button.mouseover('Stop Interaction', toolbar_mouse_event);\n",
       "    buttongrp.append(button);\n",
       "    var titlebar = this.root.find($('.ui-dialog-titlebar'));\n",
       "    titlebar.prepend(buttongrp);\n",
       "}\n",
       "\n",
       "mpl.figure.prototype._root_extra_style = function(el){\n",
       "    var fig = this\n",
       "    el.on(\"remove\", function(){\n",
       "\tfig.close_ws(fig, {});\n",
       "    });\n",
       "}\n",
       "\n",
       "mpl.figure.prototype._canvas_extra_style = function(el){\n",
       "    // this is important to make the div 'focusable\n",
       "    el.attr('tabindex', 0)\n",
       "    // reach out to IPython and tell the keyboard manager to turn it's self\n",
       "    // off when our div gets focus\n",
       "\n",
       "    // location in version 3\n",
       "    if (IPython.notebook.keyboard_manager) {\n",
       "        IPython.notebook.keyboard_manager.register_events(el);\n",
       "    }\n",
       "    else {\n",
       "        // location in version 2\n",
       "        IPython.keyboard_manager.register_events(el);\n",
       "    }\n",
       "\n",
       "}\n",
       "\n",
       "mpl.figure.prototype._key_event_extra = function(event, name) {\n",
       "    var manager = IPython.notebook.keyboard_manager;\n",
       "    if (!manager)\n",
       "        manager = IPython.keyboard_manager;\n",
       "\n",
       "    // Check for shift+enter\n",
       "    if (event.shiftKey && event.which == 13) {\n",
       "        this.canvas_div.blur();\n",
       "        event.shiftKey = false;\n",
       "        // Send a \"J\" for go to next cell\n",
       "        event.which = 74;\n",
       "        event.keyCode = 74;\n",
       "        manager.command_mode();\n",
       "        manager.handle_keydown(event);\n",
       "    }\n",
       "}\n",
       "\n",
       "mpl.figure.prototype.handle_save = function(fig, msg) {\n",
       "    fig.ondownload(fig, null);\n",
       "}\n",
       "\n",
       "\n",
       "mpl.find_output_cell = function(html_output) {\n",
       "    // Return the cell and output element which can be found *uniquely* in the notebook.\n",
       "    // Note - this is a bit hacky, but it is done because the \"notebook_saving.Notebook\"\n",
       "    // IPython event is triggered only after the cells have been serialised, which for\n",
       "    // our purposes (turning an active figure into a static one), is too late.\n",
       "    var cells = IPython.notebook.get_cells();\n",
       "    var ncells = cells.length;\n",
       "    for (var i=0; i<ncells; i++) {\n",
       "        var cell = cells[i];\n",
       "        if (cell.cell_type === 'code'){\n",
       "            for (var j=0; j<cell.output_area.outputs.length; j++) {\n",
       "                var data = cell.output_area.outputs[j];\n",
       "                if (data.data) {\n",
       "                    // IPython >= 3 moved mimebundle to data attribute of output\n",
       "                    data = data.data;\n",
       "                }\n",
       "                if (data['text/html'] == html_output) {\n",
       "                    return [cell, data, j];\n",
       "                }\n",
       "            }\n",
       "        }\n",
       "    }\n",
       "}\n",
       "\n",
       "// Register the function which deals with the matplotlib target/channel.\n",
       "// The kernel may be null if the page has been refreshed.\n",
       "if (IPython.notebook.kernel != null) {\n",
       "    IPython.notebook.kernel.comm_manager.register_target('matplotlib', mpl.mpl_figure_comm);\n",
       "}\n"
      ],
      "text/plain": [
       "<IPython.core.display.Javascript object>"
      ]
     },
     "metadata": {},
     "output_type": "display_data"
    },
    {
     "data": {
      "text/html": [
       "<img src=\"data:image/png;base64,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\">"
      ],
      "text/plain": [
       "<IPython.core.display.HTML object>"
      ]
     },
     "metadata": {},
     "output_type": "display_data"
    }
   ],
   "source": [
    "from sklearn import linear_model, svm, metrics\n",
    "y_predicted = classifier.predict_proba(X_test)[:,0]\n",
    "fpr, tpr, _ = metrics.roc_curve(y_test , y_predicted)\n",
    "roc_auc = metrics.auc(fpr, tpr)\n",
    "\n",
    "%matplotlib notebook\n",
    "import matplotlib.pyplot as plt\n",
    "plt.style.use('ggplot')\n",
    "plt.figure(1)\n",
    "plt.plot(fpr, tpr, label='roc curve (area = {:.2f})'.format(roc_auc))\n",
    "plt.plot([0, 1], [0, 1], 'k--')\n",
    "plt.xlim([-0.05, 1.05])\n",
    "plt.ylim([-0.05, 1.05])\n",
    "plt.xlabel('false positive rate')\n",
    "plt.ylabel('true positive rate')\n",
    "plt.title('ROC Curve')\n",
    "plt.legend(loc=\"lower right\")\n",
    "plt.tight_layout()"
   ]
  },
  {
   "cell_type": "code",
   "execution_count": 55,
   "metadata": {
    "collapsed": false
   },
   "outputs": [
    {
     "data": {
      "text/plain": [
       "array([0, 1, 0, ..., 0, 0, 0])"
      ]
     },
     "execution_count": 55,
     "metadata": {},
     "output_type": "execute_result"
    }
   ],
   "source": [
    "y_test"
   ]
  },
  {
   "cell_type": "code",
   "execution_count": 56,
   "metadata": {
    "collapsed": false
   },
   "outputs": [
    {
     "data": {
      "text/plain": [
       "array([ 0.17304005,  0.17304005,  0.17304005, ...,  0.17304005,\n",
       "        0.17304005,  0.17304005])"
      ]
     },
     "execution_count": 56,
     "metadata": {},
     "output_type": "execute_result"
    }
   ],
   "source": [
    "y_predicted"
   ]
  },
  {
   "cell_type": "code",
   "execution_count": 58,
   "metadata": {
    "collapsed": false
   },
   "outputs": [
    {
     "data": {
      "text/plain": [
       "array([ 0.17304005])"
      ]
     },
     "execution_count": 58,
     "metadata": {},
     "output_type": "execute_result"
    }
   ],
   "source": [
    "np.unique(y_predicted)"
   ]
  },
  {
   "cell_type": "code",
   "execution_count": null,
   "metadata": {
    "collapsed": true
   },
   "outputs": [],
   "source": []
  }
 ],
 "metadata": {
  "kernelspec": {
   "display_name": "Python 3",
   "language": "python",
   "name": "python3"
  },
  "language_info": {
   "codemirror_mode": {
    "name": "ipython",
    "version": 3
   },
   "file_extension": ".py",
   "mimetype": "text/x-python",
   "name": "python",
   "nbconvert_exporter": "python",
   "pygments_lexer": "ipython3",
   "version": "3.5.1"
  }
 },
 "nbformat": 4,
 "nbformat_minor": 0
}
